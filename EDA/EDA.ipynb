{
 "cells": [
  {
   "cell_type": "code",
   "execution_count": null,
   "id": "aa608dff",
   "metadata": {},
   "outputs": [],
   "source": [
    "import torch\n",
    "import numpy as np\n",
    "\n",
    "# 시각화를 위한 라이브러리\n",
    "import matplotlib.pyplot as plt\n",
    "%matplotlib inline\n",
    "from matplotlib.patches import Patch\n",
    "import webcolors\n",
    "\n",
    "import sys\n",
    "sys.path.append('/opt/ml/segmentation/semantic-segmentation-level2-cv-06/')\n",
    "from utils import label_accuracy_score, add_hist, class_colormap\n",
    "from dataset import CustomDataLoader, collate_fn,\\\n",
    "                train_transform, val_transform, test_transform,\\\n",
    "                category_names"
   ]
  },
  {
   "cell_type": "code",
   "execution_count": null,
   "id": "6f74eb9b",
   "metadata": {},
   "outputs": [],
   "source": [
    "plt.rcParams['axes.grid'] = False"
   ]
  },
  {
   "cell_type": "code",
   "execution_count": null,
   "id": "fc293266",
   "metadata": {},
   "outputs": [],
   "source": [
    "root_path  = '../input/data'"
   ]
  },
  {
   "cell_type": "code",
   "execution_count": null,
   "id": "83bfa03a",
   "metadata": {},
   "outputs": [],
   "source": [
    "def create_trash_label_colormap():\n",
    "    \"\"\"Creates a label colormap used in Trash segmentation.\n",
    "    Returns:\n",
    "        A colormap for visualizing segmentation results.\n",
    "    \"\"\"\n",
    "    colormap = np.zeros((11, 3), dtype=np.uint8)\n",
    "    for inex, (_, r, g, b) in enumerate(class_colormap.values):\n",
    "        colormap[inex] = [r, g, b]\n",
    "    \n",
    "    return colormap\n",
    "\n",
    "def label_to_color_image(label):\n",
    "    \"\"\"Adds color defined by the dataset colormap to the label.\n",
    "\n",
    "    Args:\n",
    "        label: A 2D array with integer type, storing the segmentation label.\n",
    "\n",
    "    Returns:\n",
    "        result: A 2D array with floating type. The element of the array\n",
    "                is the color indexed by the corresponding element in the input label\n",
    "                to the trash color map.\n",
    "\n",
    "    Raises:\n",
    "        ValueError: If label is not of rank 2 or its value is larger than color\n",
    "              map maximum entry.\n",
    "    \"\"\"\n",
    "    if label.ndim != 2:\n",
    "        raise ValueError('Expect 2-D input label')\n",
    "\n",
    "    colormap = create_trash_label_colormap()\n",
    "\n",
    "    if np.max(label) >= len(colormap):\n",
    "        raise ValueError('label value too large.')\n",
    "\n",
    "    return colormap[label]"
   ]
  },
  {
   "cell_type": "code",
   "execution_count": null,
   "id": "79fe6a23",
   "metadata": {},
   "outputs": [],
   "source": [
    "# train.json / validation.json / test.json 디렉토리 설정\n",
    "train_path = root_path + '/train.json'\n",
    "val_path = root_path + '/val.json'\n",
    "test_path = root_path + '/test.json'\n",
    "batch_size = 32\n",
    "\n",
    "train_dataset = CustomDataLoader(data_dir=train_path, mode='train', transform=train_transform)\n",
    "#val_dataset = CustomDataLoader(data_dir=val_path, mode='val', transform=val_transform)\n",
    "#test_dataset = CustomDataLoader(data_dir=test_path, mode='test', transform=test_transform)\n",
    "\n",
    "# DataLoader\n",
    "train_loader = torch.utils.data.DataLoader(dataset=train_dataset, \n",
    "                                           batch_size=batch_size,\n",
    "                                           shuffle=False,\n",
    "                                           num_workers=4,\n",
    "                                           collate_fn=collate_fn)\n",
    "\n",
    "# val_loader = torch.utils.data.DataLoader(dataset=val_dataset, \n",
    "#                                          batch_size=batch_size,\n",
    "#                                          shuffle=False,\n",
    "#                                          num_workers=4,\n",
    "#                                          collate_fn=collate_fn)\n",
    "\n",
    "# test_loader = torch.utils.data.DataLoader(dataset=test_dataset,\n",
    "#                                           batch_size=batch_size,\n",
    "#                                           num_workers=4,\n",
    "#                                           collate_fn=collate_fn)"
   ]
  },
  {
   "cell_type": "code",
   "execution_count": null,
   "id": "e075742b",
   "metadata": {},
   "outputs": [],
   "source": [
    "for i, (imgs, masks, image_infos) in enumerate(train_loader):\n",
    "    #print(len(imgs))\n",
    "    if i == 0:\n",
    "        break"
   ]
  },
  {
   "cell_type": "code",
   "execution_count": null,
   "id": "3a8a5316",
   "metadata": {
    "scrolled": false
   },
   "outputs": [],
   "source": [
    "category_and_rgb = [[category, (r,g,b)] for idx, (category, r, g, b) in enumerate(class_colormap.values)]\n",
    "legend_elements = [Patch(facecolor=webcolors.rgb_to_hex(rgb), \n",
    "                         edgecolor=webcolors.rgb_to_hex(rgb), \n",
    "                         label=category) for category, rgb in category_and_rgb]\n",
    "\n",
    "fig, ax = plt.subplots(nrows=16, ncols=4, figsize=(20, 100))\n",
    "# train_loader의 output 결과(image 및 mask) 확인\n",
    "for i in range(len(imgs)):\n",
    "    temp_image_infos = image_infos[i]\n",
    "    temp_images = imgs[i]\n",
    "    temp_masks = masks[i]\n",
    "    \n",
    "    ax[int(i//2),0 + (i%2)*2].imshow(temp_images.permute([1,2,0]))\n",
    "    ax[int(i//2),0 + (i%2)*2].grid(False)\n",
    "    ax[int(i//2),0 + (i%2)*2].set_title(\"{}\".format([category_names[int(i)] for i in list(np.unique(temp_masks))]), fontsize = 10)\n",
    "    ax[int(i//2),0 + (i%2)*2].set_xlabel(temp_image_infos['file_name'])\n",
    "\n",
    "    ax[int(i//2),1 + (i%2)*2].imshow(label_to_color_image(temp_masks.detach().cpu().numpy()))\n",
    "    ax[int(i//2),1 + (i%2)*2].grid(False)\n",
    "    #ax[int(i//2),1 + (i%2)*2].set_title(\"{}\".format([{int(i),category_names[int(i)]} for i in list(np.unique(temp_masks))], fontsize = 5))\n",
    "    if (i%2)*2 == 2:\n",
    "        ax[int(i//2),1 + (i%2)*2].legend(handles=legend_elements, bbox_to_anchor=(1.05, 1), loc=2, borderaxespad=0)\n",
    "    \n",
    "plt.show()"
   ]
  },
  {
   "cell_type": "code",
   "execution_count": null,
   "id": "8d535a07",
   "metadata": {},
   "outputs": [],
   "source": []
  }
 ],
 "metadata": {
  "kernelspec": {
   "display_name": "segmentation",
   "language": "python",
   "name": "segmentation"
  },
  "language_info": {
   "codemirror_mode": {
    "name": "ipython",
    "version": 3
   },
   "file_extension": ".py",
   "mimetype": "text/x-python",
   "name": "python",
   "nbconvert_exporter": "python",
   "pygments_lexer": "ipython3",
   "version": "3.7.11"
  }
 },
 "nbformat": 4,
 "nbformat_minor": 5
}
